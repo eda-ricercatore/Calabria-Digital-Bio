{
  "nbformat": 4,
  "nbformat_minor": 0,
  "metadata": {
    "colab": {
      "name": "ps-to-pdf-comparison.ipynb",
      "provenance": [],
      "collapsed_sections": [],
      "authorship_tag": "ABX9TyNDvhHHd0EarIyN2XCQlRnu",
      "include_colab_link": true
    },
    "kernelspec": {
      "name": "python3",
      "display_name": "Python 3"
    },
    "language_info": {
      "name": "python"
    }
  },
  "cells": [
    {
      "cell_type": "markdown",
      "metadata": {
        "id": "view-in-github",
        "colab_type": "text"
      },
      "source": [
        "<a href=\"https://colab.research.google.com/github/eda-ricercatore/Calabria-Digital-Bio/blob/master/google-colab/sys-admin/check-for-python-version-on-google-colab.ipynb\" target=\"_parent\"><img src=\"https://colab.research.google.com/assets/colab-badge.svg\" alt=\"Open In Colab\"/></a>"
      ]
    },
    {
      "cell_type": "code",
      "metadata": {
        "colab": {
          "base_uri": "https://localhost:8080/"
        },
        "id": "kpKALra3Q7qE",
        "outputId": "17342ba0-492e-40ea-ec09-c08b2f6df35b"
      },
      "source": [
        "%ls -al\n",
        "#%% python -V\n",
        "#python -version\n",
        "!python3 --version"
      ],
      "execution_count": 9,
      "outputs": [
        {
          "output_type": "stream",
          "text": [
            "total 16\n",
            "drwxr-xr-x 1 root root 4096 Jul 16 13:20 \u001b[0m\u001b[01;34m.\u001b[0m/\n",
            "drwxr-xr-x 1 root root 4096 Aug 14 15:15 \u001b[01;34m..\u001b[0m/\n",
            "drwxr-xr-x 4 root root 4096 Jul 16 13:19 \u001b[01;34m.config\u001b[0m/\n",
            "drwxr-xr-x 1 root root 4096 Jul 16 13:20 \u001b[01;34msample_data\u001b[0m/\n",
            "Python 3.7.11\n"
          ],
          "name": "stdout"
        }
      ]
    },
    {
      "cell_type": "markdown",
      "metadata": {
        "id": "k1_BLOFaTJXY"
      },
      "source": [
        "Notes about finding technical details, environmental features, or characteristics of *Google Colab*.\n",
        "\n",
        "Since Google Colab supports *Python 3.7+*, use features of Python 3.x, where x >= 7, for functional programming, object-functional programming, and timing measurement with nanosecond precision.\n",
        "\n",
        "Path to Jupyter notebook location in python-sandbox is:\n",
        "\n",
        "`google-colab/sys-admin/`"
      ]
    },
    {
      "cell_type": "code",
      "metadata": {
        "colab": {
          "base_uri": "https://localhost:8080/"
        },
        "id": "vpQayomX6Etr",
        "outputId": "b66a0529-d793-4f63-a6fd-23593942f855"
      },
      "source": [
        "# Check for Python version on Google Colab.\n",
        "!python3 --version"
      ],
      "execution_count": 11,
      "outputs": [
        {
          "output_type": "stream",
          "text": [
            "Python 3.7.11\n"
          ],
          "name": "stdout"
        }
      ]
    }
  ]
}